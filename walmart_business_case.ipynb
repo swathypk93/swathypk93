{
  "cells": [
    {
      "cell_type": "markdown",
      "metadata": {
        "id": "view-in-github",
        "colab_type": "text"
      },
      "source": [
        "<a href=\"https://colab.research.google.com/github/swathypk93/swathypk93/blob/main/walmart_business_case.ipynb\" target=\"_parent\"><img src=\"https://colab.research.google.com/assets/colab-badge.svg\" alt=\"Open In Colab\"/></a>"
      ]
    },
    {
      "cell_type": "code",
      "execution_count": null,
      "metadata": {
        "colab": {
          "base_uri": "https://localhost:8080/",
          "height": 90
        },
        "id": "twf0nb2NjI2x",
        "outputId": "7f14154f-3be4-4025-b526-b87ee5b565c8"
      },
      "outputs": [
        {
          "output_type": "display_data",
          "data": {
            "text/plain": [
              "<IPython.core.display.HTML object>"
            ],
            "text/html": [
              "\n",
              "     <input type=\"file\" id=\"files-f032786c-6799-4174-a75e-78f6a0381d74\" name=\"files[]\" multiple disabled\n",
              "        style=\"border:none\" />\n",
              "     <output id=\"result-f032786c-6799-4174-a75e-78f6a0381d74\">\n",
              "      Upload widget is only available when the cell has been executed in the\n",
              "      current browser session. Please rerun this cell to enable.\n",
              "      </output>\n",
              "      <script>// Copyright 2017 Google LLC\n",
              "//\n",
              "// Licensed under the Apache License, Version 2.0 (the \"License\");\n",
              "// you may not use this file except in compliance with the License.\n",
              "// You may obtain a copy of the License at\n",
              "//\n",
              "//      http://www.apache.org/licenses/LICENSE-2.0\n",
              "//\n",
              "// Unless required by applicable law or agreed to in writing, software\n",
              "// distributed under the License is distributed on an \"AS IS\" BASIS,\n",
              "// WITHOUT WARRANTIES OR CONDITIONS OF ANY KIND, either express or implied.\n",
              "// See the License for the specific language governing permissions and\n",
              "// limitations under the License.\n",
              "\n",
              "/**\n",
              " * @fileoverview Helpers for google.colab Python module.\n",
              " */\n",
              "(function(scope) {\n",
              "function span(text, styleAttributes = {}) {\n",
              "  const element = document.createElement('span');\n",
              "  element.textContent = text;\n",
              "  for (const key of Object.keys(styleAttributes)) {\n",
              "    element.style[key] = styleAttributes[key];\n",
              "  }\n",
              "  return element;\n",
              "}\n",
              "\n",
              "// Max number of bytes which will be uploaded at a time.\n",
              "const MAX_PAYLOAD_SIZE = 100 * 1024;\n",
              "\n",
              "function _uploadFiles(inputId, outputId) {\n",
              "  const steps = uploadFilesStep(inputId, outputId);\n",
              "  const outputElement = document.getElementById(outputId);\n",
              "  // Cache steps on the outputElement to make it available for the next call\n",
              "  // to uploadFilesContinue from Python.\n",
              "  outputElement.steps = steps;\n",
              "\n",
              "  return _uploadFilesContinue(outputId);\n",
              "}\n",
              "\n",
              "// This is roughly an async generator (not supported in the browser yet),\n",
              "// where there are multiple asynchronous steps and the Python side is going\n",
              "// to poll for completion of each step.\n",
              "// This uses a Promise to block the python side on completion of each step,\n",
              "// then passes the result of the previous step as the input to the next step.\n",
              "function _uploadFilesContinue(outputId) {\n",
              "  const outputElement = document.getElementById(outputId);\n",
              "  const steps = outputElement.steps;\n",
              "\n",
              "  const next = steps.next(outputElement.lastPromiseValue);\n",
              "  return Promise.resolve(next.value.promise).then((value) => {\n",
              "    // Cache the last promise value to make it available to the next\n",
              "    // step of the generator.\n",
              "    outputElement.lastPromiseValue = value;\n",
              "    return next.value.response;\n",
              "  });\n",
              "}\n",
              "\n",
              "/**\n",
              " * Generator function which is called between each async step of the upload\n",
              " * process.\n",
              " * @param {string} inputId Element ID of the input file picker element.\n",
              " * @param {string} outputId Element ID of the output display.\n",
              " * @return {!Iterable<!Object>} Iterable of next steps.\n",
              " */\n",
              "function* uploadFilesStep(inputId, outputId) {\n",
              "  const inputElement = document.getElementById(inputId);\n",
              "  inputElement.disabled = false;\n",
              "\n",
              "  const outputElement = document.getElementById(outputId);\n",
              "  outputElement.innerHTML = '';\n",
              "\n",
              "  const pickedPromise = new Promise((resolve) => {\n",
              "    inputElement.addEventListener('change', (e) => {\n",
              "      resolve(e.target.files);\n",
              "    });\n",
              "  });\n",
              "\n",
              "  const cancel = document.createElement('button');\n",
              "  inputElement.parentElement.appendChild(cancel);\n",
              "  cancel.textContent = 'Cancel upload';\n",
              "  const cancelPromise = new Promise((resolve) => {\n",
              "    cancel.onclick = () => {\n",
              "      resolve(null);\n",
              "    };\n",
              "  });\n",
              "\n",
              "  // Wait for the user to pick the files.\n",
              "  const files = yield {\n",
              "    promise: Promise.race([pickedPromise, cancelPromise]),\n",
              "    response: {\n",
              "      action: 'starting',\n",
              "    }\n",
              "  };\n",
              "\n",
              "  cancel.remove();\n",
              "\n",
              "  // Disable the input element since further picks are not allowed.\n",
              "  inputElement.disabled = true;\n",
              "\n",
              "  if (!files) {\n",
              "    return {\n",
              "      response: {\n",
              "        action: 'complete',\n",
              "      }\n",
              "    };\n",
              "  }\n",
              "\n",
              "  for (const file of files) {\n",
              "    const li = document.createElement('li');\n",
              "    li.append(span(file.name, {fontWeight: 'bold'}));\n",
              "    li.append(span(\n",
              "        `(${file.type || 'n/a'}) - ${file.size} bytes, ` +\n",
              "        `last modified: ${\n",
              "            file.lastModifiedDate ? file.lastModifiedDate.toLocaleDateString() :\n",
              "                                    'n/a'} - `));\n",
              "    const percent = span('0% done');\n",
              "    li.appendChild(percent);\n",
              "\n",
              "    outputElement.appendChild(li);\n",
              "\n",
              "    const fileDataPromise = new Promise((resolve) => {\n",
              "      const reader = new FileReader();\n",
              "      reader.onload = (e) => {\n",
              "        resolve(e.target.result);\n",
              "      };\n",
              "      reader.readAsArrayBuffer(file);\n",
              "    });\n",
              "    // Wait for the data to be ready.\n",
              "    let fileData = yield {\n",
              "      promise: fileDataPromise,\n",
              "      response: {\n",
              "        action: 'continue',\n",
              "      }\n",
              "    };\n",
              "\n",
              "    // Use a chunked sending to avoid message size limits. See b/62115660.\n",
              "    let position = 0;\n",
              "    do {\n",
              "      const length = Math.min(fileData.byteLength - position, MAX_PAYLOAD_SIZE);\n",
              "      const chunk = new Uint8Array(fileData, position, length);\n",
              "      position += length;\n",
              "\n",
              "      const base64 = btoa(String.fromCharCode.apply(null, chunk));\n",
              "      yield {\n",
              "        response: {\n",
              "          action: 'append',\n",
              "          file: file.name,\n",
              "          data: base64,\n",
              "        },\n",
              "      };\n",
              "\n",
              "      let percentDone = fileData.byteLength === 0 ?\n",
              "          100 :\n",
              "          Math.round((position / fileData.byteLength) * 100);\n",
              "      percent.textContent = `${percentDone}% done`;\n",
              "\n",
              "    } while (position < fileData.byteLength);\n",
              "  }\n",
              "\n",
              "  // All done.\n",
              "  yield {\n",
              "    response: {\n",
              "      action: 'complete',\n",
              "    }\n",
              "  };\n",
              "}\n",
              "\n",
              "scope.google = scope.google || {};\n",
              "scope.google.colab = scope.google.colab || {};\n",
              "scope.google.colab._files = {\n",
              "  _uploadFiles,\n",
              "  _uploadFilesContinue,\n",
              "};\n",
              "})(self);\n",
              "</script> "
            ]
          },
          "metadata": {}
        },
        {
          "output_type": "stream",
          "name": "stdout",
          "text": [
            "Saving walmart_data.csv to walmart_data (7).csv\n",
            "dict_keys(['walmart_data (7).csv'])\n"
          ]
        }
      ],
      "source": [
        "from google.colab import files\n",
        "uploaded = files.upload()\n",
        "print(uploaded.keys())\n"
      ]
    },
    {
      "cell_type": "code",
      "source": [
        "import pandas as pd\n",
        "import io\n",
        "\n",
        "df = pd.read_csv(io.BytesIO(uploaded['walmart_data (7).csv']))\n"
      ],
      "metadata": {
        "id": "SbtK5N46s4RZ"
      },
      "execution_count": null,
      "outputs": []
    },
    {
      "cell_type": "code",
      "execution_count": null,
      "metadata": {
        "id": "sLsL02d1idmn",
        "colab": {
          "base_uri": "https://localhost:8080/",
          "height": 674
        },
        "outputId": "c2b66536-5fd2-4a37-eac0-4fe617a1fb33"
      },
      "outputs": [
        {
          "output_type": "stream",
          "name": "stdout",
          "text": [
            "Shape of dataset: (550068, 10)\n",
            "\n",
            "Data Types:\n",
            " User_ID                        int64\n",
            "Product_ID                    object\n",
            "Gender                        object\n",
            "Age                           object\n",
            "Occupation                     int64\n",
            "City_Category                 object\n",
            "Stay_In_Current_City_Years    object\n",
            "Marital_Status                 int64\n",
            "Product_Category               int64\n",
            "Purchase                       int64\n",
            "dtype: object\n",
            "\n",
            "Missing Values:\n",
            " User_ID                       0\n",
            "Product_ID                    0\n",
            "Gender                        0\n",
            "Age                           0\n",
            "Occupation                    0\n",
            "City_Category                 0\n",
            "Stay_In_Current_City_Years    0\n",
            "Marital_Status                0\n",
            "Product_Category              0\n",
            "Purchase                      0\n",
            "dtype: int64\n"
          ]
        },
        {
          "output_type": "execute_result",
          "data": {
            "text/plain": [
              "   User_ID Product_ID Gender   Age  Occupation City_Category  \\\n",
              "0  1000001  P00069042      F  0-17          10             A   \n",
              "1  1000001  P00248942      F  0-17          10             A   \n",
              "2  1000001  P00087842      F  0-17          10             A   \n",
              "3  1000001  P00085442      F  0-17          10             A   \n",
              "4  1000002  P00285442      M   55+          16             C   \n",
              "\n",
              "  Stay_In_Current_City_Years  Marital_Status  Product_Category  Purchase  \n",
              "0                          2               0                 3      8370  \n",
              "1                          2               0                 1     15200  \n",
              "2                          2               0                12      1422  \n",
              "3                          2               0                12      1057  \n",
              "4                         4+               0                 8      7969  "
            ],
            "text/html": [
              "\n",
              "  <div id=\"df-ecf76a80-0734-4b67-b6c9-eb7d6fdd5582\" class=\"colab-df-container\">\n",
              "    <div>\n",
              "<style scoped>\n",
              "    .dataframe tbody tr th:only-of-type {\n",
              "        vertical-align: middle;\n",
              "    }\n",
              "\n",
              "    .dataframe tbody tr th {\n",
              "        vertical-align: top;\n",
              "    }\n",
              "\n",
              "    .dataframe thead th {\n",
              "        text-align: right;\n",
              "    }\n",
              "</style>\n",
              "<table border=\"1\" class=\"dataframe\">\n",
              "  <thead>\n",
              "    <tr style=\"text-align: right;\">\n",
              "      <th></th>\n",
              "      <th>User_ID</th>\n",
              "      <th>Product_ID</th>\n",
              "      <th>Gender</th>\n",
              "      <th>Age</th>\n",
              "      <th>Occupation</th>\n",
              "      <th>City_Category</th>\n",
              "      <th>Stay_In_Current_City_Years</th>\n",
              "      <th>Marital_Status</th>\n",
              "      <th>Product_Category</th>\n",
              "      <th>Purchase</th>\n",
              "    </tr>\n",
              "  </thead>\n",
              "  <tbody>\n",
              "    <tr>\n",
              "      <th>0</th>\n",
              "      <td>1000001</td>\n",
              "      <td>P00069042</td>\n",
              "      <td>F</td>\n",
              "      <td>0-17</td>\n",
              "      <td>10</td>\n",
              "      <td>A</td>\n",
              "      <td>2</td>\n",
              "      <td>0</td>\n",
              "      <td>3</td>\n",
              "      <td>8370</td>\n",
              "    </tr>\n",
              "    <tr>\n",
              "      <th>1</th>\n",
              "      <td>1000001</td>\n",
              "      <td>P00248942</td>\n",
              "      <td>F</td>\n",
              "      <td>0-17</td>\n",
              "      <td>10</td>\n",
              "      <td>A</td>\n",
              "      <td>2</td>\n",
              "      <td>0</td>\n",
              "      <td>1</td>\n",
              "      <td>15200</td>\n",
              "    </tr>\n",
              "    <tr>\n",
              "      <th>2</th>\n",
              "      <td>1000001</td>\n",
              "      <td>P00087842</td>\n",
              "      <td>F</td>\n",
              "      <td>0-17</td>\n",
              "      <td>10</td>\n",
              "      <td>A</td>\n",
              "      <td>2</td>\n",
              "      <td>0</td>\n",
              "      <td>12</td>\n",
              "      <td>1422</td>\n",
              "    </tr>\n",
              "    <tr>\n",
              "      <th>3</th>\n",
              "      <td>1000001</td>\n",
              "      <td>P00085442</td>\n",
              "      <td>F</td>\n",
              "      <td>0-17</td>\n",
              "      <td>10</td>\n",
              "      <td>A</td>\n",
              "      <td>2</td>\n",
              "      <td>0</td>\n",
              "      <td>12</td>\n",
              "      <td>1057</td>\n",
              "    </tr>\n",
              "    <tr>\n",
              "      <th>4</th>\n",
              "      <td>1000002</td>\n",
              "      <td>P00285442</td>\n",
              "      <td>M</td>\n",
              "      <td>55+</td>\n",
              "      <td>16</td>\n",
              "      <td>C</td>\n",
              "      <td>4+</td>\n",
              "      <td>0</td>\n",
              "      <td>8</td>\n",
              "      <td>7969</td>\n",
              "    </tr>\n",
              "  </tbody>\n",
              "</table>\n",
              "</div>\n",
              "    <div class=\"colab-df-buttons\">\n",
              "\n",
              "  <div class=\"colab-df-container\">\n",
              "    <button class=\"colab-df-convert\" onclick=\"convertToInteractive('df-ecf76a80-0734-4b67-b6c9-eb7d6fdd5582')\"\n",
              "            title=\"Convert this dataframe to an interactive table.\"\n",
              "            style=\"display:none;\">\n",
              "\n",
              "  <svg xmlns=\"http://www.w3.org/2000/svg\" height=\"24px\" viewBox=\"0 -960 960 960\">\n",
              "    <path d=\"M120-120v-720h720v720H120Zm60-500h600v-160H180v160Zm220 220h160v-160H400v160Zm0 220h160v-160H400v160ZM180-400h160v-160H180v160Zm440 0h160v-160H620v160ZM180-180h160v-160H180v160Zm440 0h160v-160H620v160Z\"/>\n",
              "  </svg>\n",
              "    </button>\n",
              "\n",
              "  <style>\n",
              "    .colab-df-container {\n",
              "      display:flex;\n",
              "      gap: 12px;\n",
              "    }\n",
              "\n",
              "    .colab-df-convert {\n",
              "      background-color: #E8F0FE;\n",
              "      border: none;\n",
              "      border-radius: 50%;\n",
              "      cursor: pointer;\n",
              "      display: none;\n",
              "      fill: #1967D2;\n",
              "      height: 32px;\n",
              "      padding: 0 0 0 0;\n",
              "      width: 32px;\n",
              "    }\n",
              "\n",
              "    .colab-df-convert:hover {\n",
              "      background-color: #E2EBFA;\n",
              "      box-shadow: 0px 1px 2px rgba(60, 64, 67, 0.3), 0px 1px 3px 1px rgba(60, 64, 67, 0.15);\n",
              "      fill: #174EA6;\n",
              "    }\n",
              "\n",
              "    .colab-df-buttons div {\n",
              "      margin-bottom: 4px;\n",
              "    }\n",
              "\n",
              "    [theme=dark] .colab-df-convert {\n",
              "      background-color: #3B4455;\n",
              "      fill: #D2E3FC;\n",
              "    }\n",
              "\n",
              "    [theme=dark] .colab-df-convert:hover {\n",
              "      background-color: #434B5C;\n",
              "      box-shadow: 0px 1px 3px 1px rgba(0, 0, 0, 0.15);\n",
              "      filter: drop-shadow(0px 1px 2px rgba(0, 0, 0, 0.3));\n",
              "      fill: #FFFFFF;\n",
              "    }\n",
              "  </style>\n",
              "\n",
              "    <script>\n",
              "      const buttonEl =\n",
              "        document.querySelector('#df-ecf76a80-0734-4b67-b6c9-eb7d6fdd5582 button.colab-df-convert');\n",
              "      buttonEl.style.display =\n",
              "        google.colab.kernel.accessAllowed ? 'block' : 'none';\n",
              "\n",
              "      async function convertToInteractive(key) {\n",
              "        const element = document.querySelector('#df-ecf76a80-0734-4b67-b6c9-eb7d6fdd5582');\n",
              "        const dataTable =\n",
              "          await google.colab.kernel.invokeFunction('convertToInteractive',\n",
              "                                                    [key], {});\n",
              "        if (!dataTable) return;\n",
              "\n",
              "        const docLinkHtml = 'Like what you see? Visit the ' +\n",
              "          '<a target=\"_blank\" href=https://colab.research.google.com/notebooks/data_table.ipynb>data table notebook</a>'\n",
              "          + ' to learn more about interactive tables.';\n",
              "        element.innerHTML = '';\n",
              "        dataTable['output_type'] = 'display_data';\n",
              "        await google.colab.output.renderOutput(dataTable, element);\n",
              "        const docLink = document.createElement('div');\n",
              "        docLink.innerHTML = docLinkHtml;\n",
              "        element.appendChild(docLink);\n",
              "      }\n",
              "    </script>\n",
              "  </div>\n",
              "\n",
              "\n",
              "    <div id=\"df-fe8ab7a4-05c4-4c21-a2f5-a7b0d8be4bdf\">\n",
              "      <button class=\"colab-df-quickchart\" onclick=\"quickchart('df-fe8ab7a4-05c4-4c21-a2f5-a7b0d8be4bdf')\"\n",
              "                title=\"Suggest charts\"\n",
              "                style=\"display:none;\">\n",
              "\n",
              "<svg xmlns=\"http://www.w3.org/2000/svg\" height=\"24px\"viewBox=\"0 0 24 24\"\n",
              "     width=\"24px\">\n",
              "    <g>\n",
              "        <path d=\"M19 3H5c-1.1 0-2 .9-2 2v14c0 1.1.9 2 2 2h14c1.1 0 2-.9 2-2V5c0-1.1-.9-2-2-2zM9 17H7v-7h2v7zm4 0h-2V7h2v10zm4 0h-2v-4h2v4z\"/>\n",
              "    </g>\n",
              "</svg>\n",
              "      </button>\n",
              "\n",
              "<style>\n",
              "  .colab-df-quickchart {\n",
              "      --bg-color: #E8F0FE;\n",
              "      --fill-color: #1967D2;\n",
              "      --hover-bg-color: #E2EBFA;\n",
              "      --hover-fill-color: #174EA6;\n",
              "      --disabled-fill-color: #AAA;\n",
              "      --disabled-bg-color: #DDD;\n",
              "  }\n",
              "\n",
              "  [theme=dark] .colab-df-quickchart {\n",
              "      --bg-color: #3B4455;\n",
              "      --fill-color: #D2E3FC;\n",
              "      --hover-bg-color: #434B5C;\n",
              "      --hover-fill-color: #FFFFFF;\n",
              "      --disabled-bg-color: #3B4455;\n",
              "      --disabled-fill-color: #666;\n",
              "  }\n",
              "\n",
              "  .colab-df-quickchart {\n",
              "    background-color: var(--bg-color);\n",
              "    border: none;\n",
              "    border-radius: 50%;\n",
              "    cursor: pointer;\n",
              "    display: none;\n",
              "    fill: var(--fill-color);\n",
              "    height: 32px;\n",
              "    padding: 0;\n",
              "    width: 32px;\n",
              "  }\n",
              "\n",
              "  .colab-df-quickchart:hover {\n",
              "    background-color: var(--hover-bg-color);\n",
              "    box-shadow: 0 1px 2px rgba(60, 64, 67, 0.3), 0 1px 3px 1px rgba(60, 64, 67, 0.15);\n",
              "    fill: var(--button-hover-fill-color);\n",
              "  }\n",
              "\n",
              "  .colab-df-quickchart-complete:disabled,\n",
              "  .colab-df-quickchart-complete:disabled:hover {\n",
              "    background-color: var(--disabled-bg-color);\n",
              "    fill: var(--disabled-fill-color);\n",
              "    box-shadow: none;\n",
              "  }\n",
              "\n",
              "  .colab-df-spinner {\n",
              "    border: 2px solid var(--fill-color);\n",
              "    border-color: transparent;\n",
              "    border-bottom-color: var(--fill-color);\n",
              "    animation:\n",
              "      spin 1s steps(1) infinite;\n",
              "  }\n",
              "\n",
              "  @keyframes spin {\n",
              "    0% {\n",
              "      border-color: transparent;\n",
              "      border-bottom-color: var(--fill-color);\n",
              "      border-left-color: var(--fill-color);\n",
              "    }\n",
              "    20% {\n",
              "      border-color: transparent;\n",
              "      border-left-color: var(--fill-color);\n",
              "      border-top-color: var(--fill-color);\n",
              "    }\n",
              "    30% {\n",
              "      border-color: transparent;\n",
              "      border-left-color: var(--fill-color);\n",
              "      border-top-color: var(--fill-color);\n",
              "      border-right-color: var(--fill-color);\n",
              "    }\n",
              "    40% {\n",
              "      border-color: transparent;\n",
              "      border-right-color: var(--fill-color);\n",
              "      border-top-color: var(--fill-color);\n",
              "    }\n",
              "    60% {\n",
              "      border-color: transparent;\n",
              "      border-right-color: var(--fill-color);\n",
              "    }\n",
              "    80% {\n",
              "      border-color: transparent;\n",
              "      border-right-color: var(--fill-color);\n",
              "      border-bottom-color: var(--fill-color);\n",
              "    }\n",
              "    90% {\n",
              "      border-color: transparent;\n",
              "      border-bottom-color: var(--fill-color);\n",
              "    }\n",
              "  }\n",
              "</style>\n",
              "\n",
              "      <script>\n",
              "        async function quickchart(key) {\n",
              "          const quickchartButtonEl =\n",
              "            document.querySelector('#' + key + ' button');\n",
              "          quickchartButtonEl.disabled = true;  // To prevent multiple clicks.\n",
              "          quickchartButtonEl.classList.add('colab-df-spinner');\n",
              "          try {\n",
              "            const charts = await google.colab.kernel.invokeFunction(\n",
              "                'suggestCharts', [key], {});\n",
              "          } catch (error) {\n",
              "            console.error('Error during call to suggestCharts:', error);\n",
              "          }\n",
              "          quickchartButtonEl.classList.remove('colab-df-spinner');\n",
              "          quickchartButtonEl.classList.add('colab-df-quickchart-complete');\n",
              "        }\n",
              "        (() => {\n",
              "          let quickchartButtonEl =\n",
              "            document.querySelector('#df-fe8ab7a4-05c4-4c21-a2f5-a7b0d8be4bdf button');\n",
              "          quickchartButtonEl.style.display =\n",
              "            google.colab.kernel.accessAllowed ? 'block' : 'none';\n",
              "        })();\n",
              "      </script>\n",
              "    </div>\n",
              "\n",
              "    </div>\n",
              "  </div>\n"
            ],
            "application/vnd.google.colaboratory.intrinsic+json": {
              "type": "dataframe",
              "variable_name": "df"
            }
          },
          "metadata": {},
          "execution_count": 11
        }
      ],
      "source": [
        "\n",
        "import pandas as pd\n",
        "import numpy as np\n",
        "import seaborn as sns\n",
        "import matplotlib.pyplot as plt\n",
        "\n",
        "df = pd.read_csv('walmart_data (6).csv')\n",
        "\n",
        "print(\"Shape of dataset:\", df.shape)\n",
        "print(\"\\nData Types:\\n\", df.dtypes)\n",
        "print(\"\\nMissing Values:\\n\", df.isnull().sum())\n",
        "df.head()\n",
        "\n"
      ]
    },
    {
      "cell_type": "markdown",
      "metadata": {
        "id": "ADIo-hN0k8R5"
      },
      "source": [
        "No missing values\n",
        "\n",
        "550,068 rows and 10 columns"
      ]
    },
    {
      "cell_type": "code",
      "execution_count": null,
      "metadata": {
        "id": "7MX0DBF5lABF",
        "colab": {
          "base_uri": "https://localhost:8080/",
          "height": 397
        },
        "outputId": "47fb3af8-e41c-48a5-9b1e-c3a9ed4e5314"
      },
      "outputs": [
        {
          "output_type": "execute_result",
          "data": {
            "text/plain": [
              "User_ID                          int64\n",
              "Product_ID                      object\n",
              "Gender                        category\n",
              "Age                           category\n",
              "Occupation                       int64\n",
              "City_Category                 category\n",
              "Stay_In_Current_City_Years    category\n",
              "Marital_Status                category\n",
              "Product_Category                 int64\n",
              "Purchase                         int64\n",
              "dtype: object"
            ],
            "text/html": [
              "<div>\n",
              "<style scoped>\n",
              "    .dataframe tbody tr th:only-of-type {\n",
              "        vertical-align: middle;\n",
              "    }\n",
              "\n",
              "    .dataframe tbody tr th {\n",
              "        vertical-align: top;\n",
              "    }\n",
              "\n",
              "    .dataframe thead th {\n",
              "        text-align: right;\n",
              "    }\n",
              "</style>\n",
              "<table border=\"1\" class=\"dataframe\">\n",
              "  <thead>\n",
              "    <tr style=\"text-align: right;\">\n",
              "      <th></th>\n",
              "      <th>0</th>\n",
              "    </tr>\n",
              "  </thead>\n",
              "  <tbody>\n",
              "    <tr>\n",
              "      <th>User_ID</th>\n",
              "      <td>int64</td>\n",
              "    </tr>\n",
              "    <tr>\n",
              "      <th>Product_ID</th>\n",
              "      <td>object</td>\n",
              "    </tr>\n",
              "    <tr>\n",
              "      <th>Gender</th>\n",
              "      <td>category</td>\n",
              "    </tr>\n",
              "    <tr>\n",
              "      <th>Age</th>\n",
              "      <td>category</td>\n",
              "    </tr>\n",
              "    <tr>\n",
              "      <th>Occupation</th>\n",
              "      <td>int64</td>\n",
              "    </tr>\n",
              "    <tr>\n",
              "      <th>City_Category</th>\n",
              "      <td>category</td>\n",
              "    </tr>\n",
              "    <tr>\n",
              "      <th>Stay_In_Current_City_Years</th>\n",
              "      <td>category</td>\n",
              "    </tr>\n",
              "    <tr>\n",
              "      <th>Marital_Status</th>\n",
              "      <td>category</td>\n",
              "    </tr>\n",
              "    <tr>\n",
              "      <th>Product_Category</th>\n",
              "      <td>int64</td>\n",
              "    </tr>\n",
              "    <tr>\n",
              "      <th>Purchase</th>\n",
              "      <td>int64</td>\n",
              "    </tr>\n",
              "  </tbody>\n",
              "</table>\n",
              "</div><br><label><b>dtype:</b> object</label>"
            ]
          },
          "metadata": {},
          "execution_count": 12
        }
      ],
      "source": [
        "\n",
        "cat_cols = ['Gender', 'Age', 'City_Category', 'Stay_In_Current_City_Years', 'Marital_Status']\n",
        "for col in cat_cols:\n",
        "    df[col] = df[col].astype('category')\n",
        "\n",
        "df.dtypes\n"
      ]
    },
    {
      "cell_type": "markdown",
      "metadata": {
        "id": "esZL26dek5kk"
      },
      "source": []
    },
    {
      "cell_type": "code",
      "execution_count": null,
      "metadata": {
        "id": "HMWgoShnlI6F",
        "colab": {
          "base_uri": "https://localhost:8080/",
          "height": 728
        },
        "outputId": "242363ee-cc4d-4d2a-a08a-6689f5e9a816"
      },
      "outputs": [
        {
          "output_type": "display_data",
          "data": {
            "text/plain": [
              "<Figure size 1000x400 with 1 Axes>"
            ],
            "image/png": "[encoded data removed]"
          },
          "metadata": {}
        },
        {
          "output_type": "execute_result",
          "data": {
            "text/plain": [
              "count    550068.000000\n",
              "mean       9263.968713\n",
              "std        5023.065394\n",
              "min          12.000000\n",
              "25%        5823.000000\n",
              "50%        8047.000000\n",
              "75%       12054.000000\n",
              "max       23961.000000\n",
              "Name: Purchase, dtype: float64"
            ],
            "text/html": [
              "<div>\n",
              "<style scoped>\n",
              "    .dataframe tbody tr th:only-of-type {\n",
              "        vertical-align: middle;\n",
              "    }\n",
              "\n",
              "    .dataframe tbody tr th {\n",
              "        vertical-align: top;\n",
              "    }\n",
              "\n",
              "    .dataframe thead th {\n",
              "        text-align: right;\n",
              "    }\n",
              "</style>\n",
              "<table border=\"1\" class=\"dataframe\">\n",
              "  <thead>\n",
              "    <tr style=\"text-align: right;\">\n",
              "      <th></th>\n",
              "      <th>Purchase</th>\n",
              "    </tr>\n",
              "  </thead>\n",
              "  <tbody>\n",
              "    <tr>\n",
              "      <th>count</th>\n",
              "      <td>550068.000000</td>\n",
              "    </tr>\n",
              "    <tr>\n",
              "      <th>mean</th>\n",
              "      <td>9263.968713</td>\n",
              "    </tr>\n",
              "    <tr>\n",
              "      <th>std</th>\n",
              "      <td>5023.065394</td>\n",
              "    </tr>\n",
              "    <tr>\n",
              "      <th>min</th>\n",
              "      <td>12.000000</td>\n",
              "    </tr>\n",
              "    <tr>\n",
              "      <th>25%</th>\n",
              "      <td>5823.000000</td>\n",
              "    </tr>\n",
              "    <tr>\n",
              "      <th>50%</th>\n",
              "      <td>8047.000000</td>\n",
              "    </tr>\n",
              "    <tr>\n",
              "      <th>75%</th>\n",
              "      <td>12054.000000</td>\n",
              "    </tr>\n",
              "    <tr>\n",
              "      <th>max</th>\n",
              "      <td>23961.000000</td>\n",
              "    </tr>\n",
              "  </tbody>\n",
              "</table>\n",
              "</div><br><label><b>dtype:</b> float64</label>"
            ]
          },
          "metadata": {},
          "execution_count": 13
        }
      ],
      "source": [
        "\n",
        "plt.figure(figsize=(10, 4))\n",
        "sns.boxplot(x=df['Purchase'])\n",
        "plt.title('Boxplot of Purchase Amount')\n",
        "plt.show()\n",
        "df['Purchase'].describe()\n"
      ]
    },
    {
      "cell_type": "markdown",
      "metadata": {
        "id": "ABS1WCBXls4V"
      },
      "source": [
        "The purchase amount has a few high-value outliers, especially above ₹20,000."
      ]
    },
    {
      "cell_type": "code",
      "execution_count": null,
      "metadata": {
        "id": "U_s9gpkXluiZ"
      },
      "outputs": [],
      "source": [
        "\n",
        "lower = df['Purchase'].quantile(0.05)\n",
        "upper = df['Purchase'].quantile(0.95)\n",
        "\n",
        "df['Purchase'] = np.clip(df['Purchase'], lower, upper)\n"
      ]
    },
    {
      "cell_type": "code",
      "execution_count": null,
      "metadata": {
        "id": "iRCu4WpclNs1"
      },
      "outputs": [],
      "source": [
        "\n",
        "lower = df['Purchase'].quantile(0.05)\n",
        "upper = df['Purchase'].quantile(0.95)\n",
        "\n",
        "df['Purchase'] = np.clip(df['Purchase'], lower, upper)\n"
      ]
    },
    {
      "cell_type": "markdown",
      "metadata": {
        "id": "ho0ea_7_l3dE"
      },
      "source": [
        "Gender-wise Average Purchase\n",
        "\n",
        "\n",
        "\n"
      ]
    },
    {
      "cell_type": "code",
      "execution_count": null,
      "metadata": {
        "id": "MsTLQOC9l5rL",
        "colab": {
          "base_uri": "https://localhost:8080/",
          "height": 596
        },
        "outputId": "f73e21fa-9a93-4ac7-f1c6-23322f09b51f"
      },
      "outputs": [
        {
          "output_type": "stream",
          "name": "stderr",
          "text": [
            "<ipython-input-16-0def67c96fd8>:1: FutureWarning: The default of observed=False is deprecated and will be changed to True in a future version of pandas. Pass observed=False to retain current behavior or observed=True to adopt the future default and silence this warning.\n",
            "  gender_purchase = df.groupby('Gender')['Purchase'].mean()\n"
          ]
        },
        {
          "output_type": "stream",
          "name": "stdout",
          "text": [
            "Gender\n",
            "F    8736.540266\n",
            "M    9427.240997\n",
            "Name: Purchase, dtype: float64\n"
          ]
        },
        {
          "output_type": "display_data",
          "data": {
            "text/plain": [
              "<Figure size 640x480 with 1 Axes>"
            ],
            "image/png": "[encoded data removed]"
          },
          "metadata": {}
        }
      ],
      "source": [
        "\n",
        "gender_purchase = df.groupby('Gender')['Purchase'].mean()\n",
        "print(gender_purchase)\n",
        "\n",
        "sns.boxplot(x='Gender', y='Purchase', data=df)\n",
        "plt.title(\"Purchase Amount by Gender\")\n",
        "plt.show()\n"
      ]
    },
    {
      "cell_type": "markdown",
      "metadata": {
        "id": "Mqpshq9hm0yI"
      },
      "source": [
        "Men spent more on average than women during Black Friday in this dataset.\n",
        "\n",
        "The difference is ~₹690."
      ]
    },
    {
      "cell_type": "markdown",
      "metadata": {
        "id": "4KxqvEXFm9mg"
      },
      "source": [
        "Marital Status vs Purchase"
      ]
    },
    {
      "cell_type": "code",
      "execution_count": null,
      "metadata": {
        "colab": {
          "base_uri": "https://localhost:8080/",
          "height": 596
        },
        "id": "Mw-s4BVfm-l_",
        "outputId": "ad9ae036-74d5-4875-e813-10cf04352647"
      },
      "outputs": [
        {
          "output_type": "stream",
          "name": "stderr",
          "text": [
            "<ipython-input-17-f12be2056bb2>:1: FutureWarning: The default of observed=False is deprecated and will be changed to True in a future version of pandas. Pass observed=False to retain current behavior or observed=True to adopt the future default and silence this warning.\n",
            "  marital_purchase = df.groupby('Marital_Status')['Purchase'].mean()\n"
          ]
        },
        {
          "output_type": "stream",
          "name": "stdout",
          "text": [
            "Marital_Status\n",
            "0    9258.820464\n",
            "1    9253.669823\n",
            "Name: Purchase, dtype: float64\n"
          ]
        },
        {
          "output_type": "display_data",
          "data": {
            "text/plain": [
              "<Figure size 640x480 with 1 Axes>"
            ],
            "image/png": "[encoded data removed]"
          },
          "metadata": {}
        }
      ],
      "source": [
        "\n",
        "marital_purchase = df.groupby('Marital_Status')['Purchase'].mean()\n",
        "print(marital_purchase)\n",
        "\n",
        "sns.boxplot(x='Marital_Status', y='Purchase', data=df)\n",
        "plt.title(\"Purchase Amount by Marital Status\")\n",
        "plt.show()\n"
      ]
    },
    {
      "cell_type": "markdown",
      "metadata": {
        "id": "VAOLgo0vnO0W"
      },
      "source": [
        "The average purchase amount is nearly the same for married and unmarried customers.\n",
        "\n",
        "The difference is very small (~₹5) and may not be statistically significant"
      ]
    },
    {
      "cell_type": "code",
      "execution_count": null,
      "metadata": {
        "colab": {
          "base_uri": "https://localhost:8080/"
        },
        "id": "QsQJ_tOQnSIx",
        "outputId": "89d160c1-7d32-4d43-c123-b0e0bf4bc579"
      },
      "outputs": [
        {
          "output_type": "stream",
          "name": "stdout",
          "text": [
            "Male: Mean = 9427.24, 95% CI = [9412.24, 9442.24]\n",
            "Female: Mean = 8736.54, 95% CI = [8712.09, 8760.99]\n"
          ]
        }
      ],
      "source": [
        "from scipy import stats\n",
        "\n",
        "\n",
        "def compute_ci(data, confidence=0.95):\n",
        "    mean = np.mean(data)\n",
        "    sem = stats.sem(data)\n",
        "    margin = sem * stats.t.ppf((1 + confidence) / 2., len(data)-1)\n",
        "    return mean, (mean - margin, mean + margin)\n",
        "\n",
        "\n",
        "male_data = df[df['Gender'] == 'M']['Purchase']\n",
        "female_data = df[df['Gender'] == 'F']['Purchase']\n",
        "\n",
        "mean_m, ci_m = compute_ci(male_data)\n",
        "mean_f, ci_f = compute_ci(female_data)\n",
        "\n",
        "print(\"Male: Mean = {:.2f}, 95% CI = [{:.2f}, {:.2f}]\".format(mean_m, *ci_m))\n",
        "print(\"Female: Mean = {:.2f}, 95% CI = [{:.2f}, {:.2f}]\".format(mean_f, *ci_f))\n"
      ]
    },
    {
      "cell_type": "markdown",
      "metadata": {
        "id": "PVGDmL5vnkkn"
      },
      "source": [
        "Interpretation & Business Insight\n",
        "The confidence intervals do not overlap, meaning the difference in average spending between males and females is statistically significant.\n",
        "Men spend more on average, and the result is not due to random sampling variation.\n",
        "\n",
        "Walmart Can:\n",
        "Create targeted marketing strategies for men during Black Friday (e.g., electronics, tools, gadgets).\n",
        "Analyze product preferences to understand where men are spending more and optimize inventory or promotions accordingly.\n",
        "\n"
      ]
    },
    {
      "cell_type": "code",
      "execution_count": null,
      "metadata": {
        "colab": {
          "base_uri": "https://localhost:8080/"
        },
        "id": "FfNqf2EcoBF6",
        "outputId": "0378fa41-4ecb-4249-f2c8-2d2b01c04acb"
      },
      "outputs": [
        {
          "name": "stdout",
          "output_type": "stream",
          "text": [
            "\n",
            "Sample Size: 300\n",
            "  Male:   Mean = 9871.36, CI = [9285.74, 10456.98]\n",
            "  Female: Mean = 8521.66, CI = [8000.92, 9042.39]\n",
            "\n",
            "Sample Size: 3000\n",
            "  Male:   Mean = 9521.38, CI = [9344.51, 9698.25]\n",
            "  Female: Mean = 8862.58, CI = [8693.88, 9031.27]\n",
            "\n",
            "Sample Size: 30000\n",
            "  Male:   Mean = 9390.69, CI = [9334.74, 9446.63]\n",
            "  Female: Mean = 8768.38, CI = [8716.13, 8820.64]\n"
          ]
        }
      ],
      "source": [
        "sample_sizes = [300, 3000, 30000]\n",
        "np.random.seed(42)\n",
        "\n",
        "for size in sample_sizes:\n",
        "    sample_m = male_data.sample(size)\n",
        "    sample_f = female_data.sample(size)\n",
        "\n",
        "    mean_m_s, ci_m_s = compute_ci(sample_m)\n",
        "    mean_f_s, ci_f_s = compute_ci(sample_f)\n",
        "\n",
        "    print(f\"\\nSample Size: {size}\")\n",
        "    print(\"  Male:   Mean = {:.2f}, CI = [{:.2f}, {:.2f}]\".format(mean_m_s, *ci_m_s))\n",
        "    print(\"  Female: Mean = {:.2f}, CI = [{:.2f}, {:.2f}]\".format(mean_f_s, *ci_f_s))\n"
      ]
    },
    {
      "cell_type": "markdown",
      "metadata": {
        "id": "wn5fCSrroQmG"
      },
      "source": [
        "**Insights:**\n",
        "Larger Sample = Narrower Interval\n",
        "As sample size increases, the confidence interval becomes tighter (more precise).\n",
        "This is due to reduced standard error.\n",
        "\n",
        "Small Sample = Wider & Overlapping Intervals\n",
        "At sample size 300, there's a chance of overlapping CIs, increasing uncertainty.Business decisions based only on small samples could be misleading.\n",
        "\n",
        "Distribution Stabilizes with Larger Samples **bold text**\n",
        "With 30,000 samples, mean and CI closely match the true population values from the full dataset.\n",
        "\n"
      ]
    },
    {
      "cell_type": "markdown",
      "metadata": {
        "id": "fWiOFZtgpTQe"
      },
      "source": [
        "Business Takeaway (Gender-based):\n",
        "Men consistently spend more — even with smaller samples.\n",
        "\n",
        "Walmart can use this to:\n",
        "\n",
        "Personalize email campaigns\n",
        "\n",
        "Suggest higher-value products to male customers\n",
        "\n",
        "Refine ad targeting during promotions"
      ]
    },
    {
      "cell_type": "markdown",
      "metadata": {
        "id": "X_l7QeQFpo1s"
      },
      "source": [
        "Age Group vs Purchase / Product Category"
      ]
    },
    {
      "cell_type": "code",
      "execution_count": null,
      "metadata": {
        "colab": {
          "base_uri": "https://localhost:8080/",
          "height": 1000
        },
        "id": "ATP8DXKgprbW",
        "outputId": "1385396e-bfeb-4d20-a5e5-5da1adb84ba4"
      },
      "outputs": [
        {
          "data": {
            "image/png": "[encoded data removed]",
            "text/plain": [
              "<Figure size 640x480 with 1 Axes>"
            ]
          },
          "metadata": {},
          "output_type": "display_data"
        },
        {
          "name": "stderr",
          "output_type": "stream",
          "text": [
            "<ipython-input-16-16cfefdce9fc>:7: FutureWarning: \n",
            "\n",
            "The `ci` parameter is deprecated. Use `errorbar=None` for the same effect.\n",
            "\n",
            "  sns.barplot(data=df, x='Age', y='Purchase', estimator=np.mean, ci=None)\n"
          ]
        },
        {
          "data": {
            "image/png": "[encoded data removed]",
            "text/plain": [
              "<Figure size 640x480 with 1 Axes>"
            ]
          },
          "metadata": {},
          "output_type": "display_data"
        }
      ],
      "source": [
        "\n",
        "sns.countplot(data=df, x='Age', order=df['Age'].value_counts().index)\n",
        "plt.title(\"Number of Transactions by Age Group\")\n",
        "plt.show()\n",
        "\n",
        "sns.barplot(data=df, x='Age', y='Purchase', estimator=np.mean, ci=None)\n",
        "plt.title(\"Average Purchase by Age Group\")\n",
        "plt.show()\n"
      ]
    },
    {
      "cell_type": "markdown",
      "metadata": {
        "id": "l20HmFoSqX3q"
      },
      "source": [
        "Number of Transactions by Age Group\n",
        "26–35 is the most active age group — by far.\n",
        "\n",
        "Followed by 36–45, 18–25, and 46–50.\n",
        "\n",
        "Least active: 0–17 and 55+ age groups.\n",
        "\n",
        "Business Takeaway: Walmart should focus marketing efforts on customers aged 26–45, as they dominate the transaction volume."
      ]
    },
    {
      "cell_type": "markdown",
      "metadata": {
        "id": "CxE9lwayqbb8"
      },
      "source": [
        "Average Purchase by Age Group\n",
        "Highest average purchase: 51–55 age group, slightly higher than others.\n",
        "\n",
        "Lowest: 0–17, which makes sense (likely limited spending power).\n",
        "\n",
        "Overall, average purchase is fairly stable across adult age groups.\n",
        "\n",
        "Business Takeaway: While younger users buy more frequently, older users tend to spend more per transaction — Walmart could:\n",
        "\n",
        "Promote premium bundles to 51–55 customers.\n",
        "\n",
        "Offer youth deals to increase basket size for younger groups.\n",
        "\n"
      ]
    },
    {
      "cell_type": "code",
      "execution_count": null,
      "metadata": {
        "colab": {
          "base_uri": "https://localhost:8080/"
        },
        "id": "x-apc2bMrSBw",
        "outputId": "9fdb54ef-9f60-45e1-fb22-3cfc9826d20c"
      },
      "outputs": [
        {
          "name": "stdout",
          "output_type": "stream",
          "text": [
            "Age Group 0-17: Mean = 8940.65, 95% CI = [8861.85, 9019.45]\n",
            "Age Group 18-25: Mean = 9169.01, 95% CI = [9138.65, 9199.37]\n",
            "Age Group 26-35: Mean = 9243.78, 95% CI = [9223.47, 9264.09]\n",
            "Age Group 36-45: Mean = 9322.92, 95% CI = [9294.28, 9351.57]\n",
            "Age Group 46-50: Mean = 9204.21, 95% CI = [9160.33, 9248.09]\n",
            "Age Group 51-55: Mean = 9514.86, 95% CI = [9466.18, 9563.55]\n",
            "Age Group 55+: Mean = 9327.80, 95% CI = [9263.91, 9391.69]\n"
          ]
        }
      ],
      "source": [
        "from scipy import stats\n",
        "\n",
        "age_groups = df['Age'].unique().sort_values()\n",
        "\n",
        "\n",
        "def compute_ci(data, confidence=0.95):\n",
        "    mean = np.mean(data)\n",
        "    sem = stats.sem(data)\n",
        "    margin = sem * stats.t.ppf((1 + confidence) / 2., len(data)-1)\n",
        "    return mean, (mean - margin, mean + margin)\n",
        "\n",
        "for age in age_groups:\n",
        "    age_data = df[df['Age'] == age]['Purchase']\n",
        "    mean, ci = compute_ci(age_data)\n",
        "    print(f\"Age Group {age}: Mean = {mean:.2f}, 95% CI = [{ci[0]:.2f}, {ci[1]:.2f}]\")\n"
      ]
    },
    {
      "cell_type": "markdown",
      "metadata": {
        "id": "M4F7jrT5rgNp"
      },
      "source": [
        "Key Observations:\n",
        "51–55 age group spends the most on average, and their CI does not overlap with many younger groups (e.g., 0–17, 18–25).\n",
        "\n",
        "0–17 has the lowest spending, with its confidence interval clearly below all adult groups.\n",
        "\n",
        "The adult age groups (26–55+) have gradually increasing average spends with relatively tight, non-overlapping CIs."
      ]
    },
    {
      "cell_type": "markdown",
      "metadata": {
        "id": "lTjqN9PVro9U"
      },
      "source": [
        "Business Insights for Walmart:\n",
        " 51–55: Target them with premium product bundles, extended warranties, and exclusive discounts.\n",
        "\n",
        " 0–17: Offer budget-friendly combos or parental discounts to drive up spend.\n",
        "\n",
        " 26–45: These groups have high volume of transactions and stable spend — ideal for loyalty programs or cross-selling strategies.\n",
        "\n",
        "Focus marketing efforts where the confidence intervals show significant separation — that's where differentiation matters.\n",
        "\n"
      ]
    },
    {
      "cell_type": "code",
      "execution_count": null,
      "metadata": {
        "colab": {
          "base_uri": "https://localhost:8080/",
          "height": 564
        },
        "id": "5dsSUUUPsC2E",
        "outputId": "a4e14749-05ca-458f-bda2-362648705b7a"
      },
      "outputs": [
        {
          "data": {
            "image/png": "[encoded data removed]",
            "text/plain": [
              "<Figure size 1000x600 with 1 Axes>"
            ]
          },
          "metadata": {},
          "output_type": "display_data"
        }
      ],
      "source": [
        "plt.figure(figsize=(10,6))\n",
        "sns.boxplot(data=df, x='Age', y='Purchase', hue='Marital_Status')\n",
        "plt.title(\"Purchase by Age & Marital Status\")\n",
        "plt.show()\n"
      ]
    },
    {
      "cell_type": "markdown",
      "metadata": {
        "id": "n8BsPTEEsm5g"
      },
      "source": [
        "**Observations:**\n",
        "Across all age groups, married and unmarried customers have:\n",
        "\n",
        "Similar median purchase values\n",
        "Similar interquartile ranges\n",
        "\n",
        "There is no significant shift between the blue (unmarried) and orange (married) boxes.\n",
        "\n",
        "**Interpretation: **\n",
        "Marital Status has little to no influence on spending within each age group.\n",
        "Age, rather than marital status, is a stronger factor in determining purchase behavior.\n",
        "Confirms earlier numerical analysis where the difference in average spend was only ~₹5.\n",
        "\n",
        "**Walmart Business Takeaways:**\n",
        "No need to segment marketing based on marital status alone.\n",
        "Instead, focus on age-based and gender-based personalization strategies.\n",
        "\n",
        "For campaigns targeting families, combine age + product preferences rather than marital status."
      ]
    },
    {
      "cell_type": "code",
      "execution_count": null,
      "metadata": {
        "colab": {
          "base_uri": "https://localhost:8080/"
        },
        "id": "sQk3PZV0xEpl",
        "outputId": "f2c67eaa-87ca-4a38-e4f2-e302d7827720"
      },
      "outputs": [
        {
          "name": "stdout",
          "output_type": "stream",
          "text": [
            "Married: Mean = 9253.67, 95% CI = [9233.67, 9273.67]\n",
            "Unmarried: Mean = 9258.82, 95% CI = [9242.09, 9275.55]\n"
          ]
        }
      ],
      "source": [
        "\n",
        "married_data = df[df['Marital_Status'] == 1]['Purchase']\n",
        "unmarried_data = df[df['Marital_Status'] == 0]['Purchase']\n",
        "\n",
        "mean_married, ci_married = compute_ci(married_data)\n",
        "mean_unmarried, ci_unmarried = compute_ci(unmarried_data)\n",
        "\n",
        "print(\"Married: Mean = {:.2f}, 95% CI = [{:.2f}, {:.2f}]\".format(mean_married, *ci_married))\n",
        "print(\"Unmarried: Mean = {:.2f}, 95% CI = [{:.2f}, {:.2f}]\".format(mean_unmarried, *ci_unmarried))\n"
      ]
    },
    {
      "cell_type": "markdown",
      "source": [
        "Product Category Preference by Age Group"
      ],
      "metadata": {
        "id": "S-oX6gzIvzMZ"
      }
    },
    {
      "cell_type": "code",
      "source": [
        "import matplotlib.pyplot as plt\n",
        "import seaborn as sns\n",
        "\n",
        "plt.figure(figsize=(12, 6))\n",
        "sns.countplot(data=df, x='Product_Category', hue='Age')\n",
        "plt.title('Product Category Preference by Age Group')\n",
        "plt.xlabel('Product Category')\n",
        "plt.ylabel('Transaction Count')\n",
        "plt.legend(title='Age Group')\n",
        "plt.show()\n"
      ],
      "metadata": {
        "colab": {
          "base_uri": "https://localhost:8080/",
          "height": 564
        },
        "id": "drl0UcLtvyrJ",
        "outputId": "529c8fbc-c70e-4c2f-f4a2-c2941691a958"
      },
      "execution_count": null,
      "outputs": [
        {
          "output_type": "display_data",
          "data": {
            "text/plain": [
              "<Figure size 1200x600 with 1 Axes>"
            ],
            "image/png": "[encoded data removed]"
          },
          "metadata": {}
        }
      ]
    },
    {
      "cell_type": "markdown",
      "source": [
        "Insight :\n",
        "The 26–35 and 36–45 age groups show the highest engagement across product categories. Walmart can prioritize popular categories among these age bands for promotions and bundling."
      ],
      "metadata": {
        "id": "oFUdNOLXwDh8"
      }
    },
    {
      "cell_type": "markdown",
      "source": [
        "Product Category Preference by Gender\n"
      ],
      "metadata": {
        "id": "Jco6QGK4wXNm"
      }
    },
    {
      "cell_type": "code",
      "source": [
        "plt.figure(figsize=(10, 6))\n",
        "sns.countplot(data=df, x='Product_Category', hue='Gender')\n",
        "plt.title('Product Category Preference by Gender')\n",
        "plt.xlabel('Product Category')\n",
        "plt.ylabel('Transaction Count')\n",
        "plt.legend(title='Gender')\n",
        "plt.show()\n"
      ],
      "metadata": {
        "colab": {
          "base_uri": "https://localhost:8080/",
          "height": 564
        },
        "id": "iRrDdpz1wZLR",
        "outputId": "2543564b-0d4d-47eb-e6a1-d9af52885a7f"
      },
      "execution_count": null,
      "outputs": [
        {
          "output_type": "display_data",
          "data": {
            "text/plain": [
              "<Figure size 1000x600 with 1 Axes>"
            ],
            "image/png": "[encoded data removed]"
          },
          "metadata": {}
        }
      ]
    },
    {
      "cell_type": "markdown",
      "source": [
        "Insight (add below plot):\n",
        "Men and women have fairly similar preferences across categories, but some skew exists in certain categories."
      ],
      "metadata": {
        "id": "Z4lRcaF9xgU0"
      }
    },
    {
      "cell_type": "markdown",
      "source": [
        "Boxplot: Purchase Amount by Age and Marital Status"
      ],
      "metadata": {
        "id": "T9-WAvw_xvu0"
      }
    },
    {
      "cell_type": "code",
      "source": [
        "plt.figure(figsize=(12, 6))\n",
        "sns.boxplot(data=df, x='Age', y='Purchase', hue='Marital_Status',\n",
        "            palette={0: '#1f77b4', 1: '#ff7f0e'})\n",
        "plt.title(\"Purchase Amount by Age & Marital Status\")\n",
        "plt.xlabel(\"Age Group\")\n",
        "plt.ylabel(\"Purchase Amount\")\n",
        "plt.legend(title='Marital Status', labels=['Unmarried', 'Married'])\n",
        "plt.xticks(rotation=45)\n",
        "plt.show()\n"
      ],
      "metadata": {
        "colab": {
          "base_uri": "https://localhost:8080/",
          "height": 588
        },
        "id": "wFEOUr_1xxnm",
        "outputId": "750a1df3-32f5-4fd3-c726-12bda16473c5"
      },
      "execution_count": null,
      "outputs": [
        {
          "output_type": "display_data",
          "data": {
            "text/plain": [
              "<Figure size 1200x600 with 1 Axes>"
            ],
            "image/png": "[encoded data removed]"
          },
          "metadata": {}
        }
      ]
    },
    {
      "cell_type": "markdown",
      "source": [
        "Insight:\n",
        "Certain age groups like 36–45 and 51–55 show a slightly higher upper spread for married customers. Walmart can explore targeted campaigns like:\n",
        "\n",
        "Family bundles or savings plans for high-spending married customers in these age bands.\n",
        "\n",
        "Loyalty programs or youth combos for younger, unmarried segments (18–35), who show more consistent but moderate spending."
      ],
      "metadata": {
        "id": "slM5gCJ3yV78"
      }
    },
    {
      "cell_type": "markdown",
      "source": [
        "Compute CI from Full Data"
      ],
      "metadata": {
        "id": "STq4EPKBz66M"
      }
    },
    {
      "cell_type": "code",
      "source": [
        "married_data = df[df['Marital_Status'] == 1]['Purchase']\n",
        "unmarried_data = df[df['Marital_Status'] == 0]['Purchase']\n",
        "\n",
        "mean_m, ci_m = compute_ci(married_data)\n",
        "mean_u, ci_u = compute_ci(unmarried_data)\n",
        "\n",
        "print(\"Married:   Mean = {:.2f}, 95% CI = [{:.2f}, {:.2f}]\".format(mean_m, *ci_m))\n",
        "print(\"Unmarried: Mean = {:.2f}, 95% CI = [{:.2f}, {:.2f}]\".format(mean_u, *ci_u))\n"
      ],
      "metadata": {
        "colab": {
          "base_uri": "https://localhost:8080/"
        },
        "id": "9z0nTMIB0Awg",
        "outputId": "7f8d43c5-177f-4340-853d-c2e631961907"
      },
      "execution_count": null,
      "outputs": [
        {
          "output_type": "stream",
          "name": "stdout",
          "text": [
            "Married:   Mean = 9261.17, 95% CI = [9240.46, 9281.89]\n",
            "Unmarried: Mean = 9265.91, 95% CI = [9248.62, 9283.20]\n"
          ]
        }
      ]
    },
    {
      "cell_type": "markdown",
      "source": [
        "Insight: Confidence Intervals for Marital Status\n",
        "The average purchase for:\n",
        "Married customers is ₹9261.17 with a 95% Confidence Interval: [₹9240.46, ₹9281.89]\n",
        "Unmarried customers is ₹9265.91 with a 95% Confidence Interval: [₹9248.62, ₹9283.20]\n",
        "The confidence intervals overlap significantly, and the difference in average spend is only ~₹4.7 — which is not statistically significant."
      ],
      "metadata": {
        "id": "a6qJttYe0Q5n"
      }
    },
    {
      "cell_type": "code",
      "source": [
        "sample_sizes = [300, 3000, 30000]\n",
        "np.random.seed(42)\n",
        "\n",
        "for size in sample_sizes:\n",
        "    sample_m = married_data.sample(size)\n",
        "    sample_u = unmarried_data.sample(size)\n",
        "\n",
        "    mean_m_s, ci_m_s = compute_ci(sample_m)\n",
        "    mean_u_s, ci_u_s = compute_ci(sample_u)\n",
        "\n",
        "    print(f\"\\nSample Size: {size}\")\n",
        "    print(\"  Married:   Mean = {:.2f}, CI = [{:.2f}, {:.2f}]\".format(mean_m_s, *ci_m_s))\n",
        "    print(\"  Unmarried: Mean = {:.2f}, CI = [{:.2f}, {:.2f}]\".format(mean_u_s, *ci_u_s))\n"
      ],
      "metadata": {
        "colab": {
          "base_uri": "https://localhost:8080/"
        },
        "id": "NgdnhJy0041t",
        "outputId": "7fed86f5-9050-488f-c770-272d69df22de"
      },
      "execution_count": null,
      "outputs": [
        {
          "output_type": "stream",
          "name": "stdout",
          "text": [
            "\n",
            "Sample Size: 300\n",
            "  Married:   Mean = 9464.52, CI = [8884.96, 10044.07]\n",
            "  Unmarried: Mean = 10052.76, CI = [9441.37, 10664.15]\n",
            "\n",
            "Sample Size: 3000\n",
            "  Married:   Mean = 9344.28, CI = [9163.67, 9524.89]\n",
            "  Unmarried: Mean = 9342.75, CI = [9164.63, 9520.86]\n",
            "\n",
            "Sample Size: 30000\n",
            "  Married:   Mean = 9281.43, CI = [9224.39, 9338.46]\n",
            "  Unmarried: Mean = 9288.37, CI = [9231.47, 9345.27]\n"
          ]
        }
      ]
    },
    {
      "cell_type": "markdown",
      "source": [
        "Insights\n",
        "Increasing sample size reduces the width of the confidence interval (better estimate precision).\n",
        "\n",
        "At small sample sizes, the apparent differences might be misleading due to wide intervals.\n",
        "\n",
        "As size increases, both groups converge to very similar means, suggesting no strong association between marital status and the measured variable."
      ],
      "metadata": {
        "id": "VellxJnF1fky"
      }
    },
    {
      "cell_type": "markdown",
      "source": [
        "CLT Sample-Size CI Analysis for Age Groups"
      ],
      "metadata": {
        "id": "CBbUxKa74MYl"
      }
    },
    {
      "cell_type": "code",
      "source": [
        "sample_sizes = [300, 3000, 30000]\n",
        "np.random.seed(42)\n",
        "\n",
        "for size in sample_sizes:\n",
        "    print(f\"\\nSample Size: {size}\")\n",
        "    for age_group in df['Age'].unique():\n",
        "        sample = df[df['Age'] == age_group]['Purchase'].sample(size, replace=True)\n",
        "        mean, ci = compute_ci(sample)\n",
        "        print(f\"  Age Group {age_group}: Mean = {mean:.2f}, CI = [{ci[0]:.2f}, {ci[1]:.2f}]\")\n"
      ],
      "metadata": {
        "colab": {
          "base_uri": "https://localhost:8080/"
        },
        "id": "C9x69WLb4MCm",
        "outputId": "792666b7-d39d-42c5-b4fe-83bcbde55668"
      },
      "execution_count": null,
      "outputs": [
        {
          "output_type": "stream",
          "name": "stdout",
          "text": [
            "\n",
            "Sample Size: 300\n",
            "  Age Group 0-17: Mean = 9037.75, CI = [8501.88, 9573.62]\n",
            "  Age Group 55+: Mean = 8963.58, CI = [8400.96, 9526.20]\n",
            "  Age Group 26-35: Mean = 9552.95, CI = [8960.26, 10145.65]\n",
            "  Age Group 46-50: Mean = 9662.86, CI = [9038.58, 10287.15]\n",
            "  Age Group 51-55: Mean = 9767.34, CI = [9150.66, 10384.03]\n",
            "  Age Group 36-45: Mean = 9290.92, CI = [8744.67, 9837.18]\n",
            "  Age Group 18-25: Mean = 8890.89, CI = [8286.11, 9495.67]\n",
            "\n",
            "Sample Size: 3000\n",
            "  Age Group 0-17: Mean = 9102.04, CI = [8915.29, 9288.78]\n",
            "  Age Group 55+: Mean = 9369.47, CI = [9189.47, 9549.47]\n",
            "  Age Group 26-35: Mean = 9077.68, CI = [8902.79, 9252.57]\n",
            "  Age Group 46-50: Mean = 9092.62, CI = [8919.45, 9265.79]\n",
            "  Age Group 51-55: Mean = 9626.47, CI = [9443.14, 9809.81]\n",
            "  Age Group 36-45: Mean = 9363.31, CI = [9185.34, 9541.29]\n",
            "  Age Group 18-25: Mean = 9067.48, CI = [8887.65, 9247.31]\n",
            "\n",
            "Sample Size: 30000\n",
            "  Age Group 0-17: Mean = 8911.45, CI = [8853.34, 8969.56]\n",
            "  Age Group 55+: Mean = 9344.69, CI = [9288.28, 9401.10]\n",
            "  Age Group 26-35: Mean = 9270.52, CI = [9213.82, 9327.22]\n",
            "  Age Group 46-50: Mean = 9197.01, CI = [9140.65, 9253.37]\n",
            "  Age Group 51-55: Mean = 9515.06, CI = [9457.66, 9572.46]\n",
            "  Age Group 36-45: Mean = 9323.93, CI = [9267.08, 9380.79]\n",
            "  Age Group 18-25: Mean = 9166.63, CI = [9109.74, 9223.52]\n"
          ]
        }
      ]
    },
    {
      "cell_type": "markdown",
      "source": [
        "Insight\n",
        "The 51–55 age group has the highest average spend, consistently across all sample sizes.\n",
        "The 0–17 group spends the least, with a CI that does not overlap with older adult groups.\n",
        "Other adult groups (26–55+) show moderate but consistent spending patterns."
      ],
      "metadata": {
        "id": "Zwg-YCDQ5lFx"
      }
    },
    {
      "cell_type": "markdown",
      "source": [
        "CLT Interpretation for Gender, Marital Status, and Age"
      ],
      "metadata": {
        "id": "iYFq0JVl4n8h"
      }
    },
    {
      "cell_type": "code",
      "source": [
        "from scipy import stats\n",
        "import numpy as np\n",
        "\n",
        "def compute_ci(data, confidence=0.95):\n",
        "    mean = np.mean(data)\n",
        "    sem = stats.sem(data)\n",
        "    margin = sem * stats.t.ppf((1 + confidence) / 2., len(data)-1)\n",
        "    return mean, (mean - margin, mean + margin)\n"
      ],
      "metadata": {
        "id": "N_Q20QXw4JGv"
      },
      "execution_count": null,
      "outputs": []
    },
    {
      "cell_type": "markdown",
      "source": [
        "Gender-Based CLT Analysis (Full Dataset + Sample Sizes)"
      ],
      "metadata": {
        "id": "jWnEcPyI4wln"
      }
    },
    {
      "cell_type": "code",
      "source": [
        "male_data = df[df['Gender'] == 'M']['Purchase']\n",
        "female_data = df[df['Gender'] == 'F']['Purchase']\n",
        "\n",
        "# Full Dataset\n",
        "mean_male, ci_male = compute_ci(male_data)\n",
        "mean_female, ci_female = compute_ci(female_data)\n",
        "\n",
        "print(\"FULL DATASET:\")\n",
        "print(\"Male:   Mean = {:.2f}, 95% CI = [{:.2f}, {:.2f}]\".format(mean_male, *ci_male))\n",
        "print(\"Female: Mean = {:.2f}, 95% CI = [{:.2f}, {:.2f}]\".format(mean_female, *ci_female))\n",
        "\n",
        "# Sample Sizes\n",
        "sample_sizes = [300, 3000, 30000]\n",
        "np.random.seed(42)\n",
        "\n",
        "for size in sample_sizes:\n",
        "    sample_m = male_data.sample(size, replace=False)\n",
        "    sample_f = female_data.sample(size, replace=False)\n",
        "\n",
        "    mean_m_s, ci_m_s = compute_ci(sample_m)\n",
        "    mean_f_s, ci_f_s = compute_ci(sample_f)\n",
        "\n",
        "    print(f\"\\nSample Size: {size}\")\n",
        "    print(\"  Male:   Mean = {:.2f}, CI = [{:.2f}, {:.2f}]\".format(mean_m_s, *ci_m_s))\n",
        "    print(\"  Female: Mean = {:.2f}, CI = [{:.2f}, {:.2f}]\".format(mean_f_s, *ci_f_s))\n"
      ],
      "metadata": {
        "colab": {
          "base_uri": "https://localhost:8080/"
        },
        "id": "ZbFsmipJ4zpe",
        "outputId": "45a3eb46-136b-48c9-a484-d5677386e1db"
      },
      "execution_count": null,
      "outputs": [
        {
          "output_type": "stream",
          "name": "stdout",
          "text": [
            "FULL DATASET:\n",
            "Male:   Mean = 9437.53, 95% CI = [9422.02, 9453.03]\n",
            "Female: Mean = 8734.57, 95% CI = [8709.21, 8759.92]\n",
            "\n",
            "Sample Size: 300\n",
            "  Male:   Mean = 9887.72, CI = [9281.28, 10494.17]\n",
            "  Female: Mean = 8514.90, CI = [7971.67, 9058.14]\n",
            "\n",
            "Sample Size: 3000\n",
            "  Male:   Mean = 9538.07, CI = [9355.18, 9720.95]\n",
            "  Female: Mean = 8875.40, CI = [8700.10, 9050.71]\n",
            "\n",
            "Sample Size: 30000\n",
            "  Male:   Mean = 9398.04, CI = [9340.27, 9455.82]\n",
            "  Female: Mean = 8769.94, CI = [8715.71, 8824.17]\n"
          ]
        }
      ]
    },
    {
      "cell_type": "markdown",
      "source": [
        "Insight\n",
        "Men consistently spend more than women on Black Friday. The difference is not due to random variation — it's statistically significant with non-overlapping CIs"
      ],
      "metadata": {
        "id": "jA-g3p_g5BzI"
      }
    },
    {
      "cell_type": "markdown",
      "source": [
        "\n",
        "\n",
        "\n",
        "Final Insights\n",
        "\n",
        "- Men spend more than women on average; their confidence intervals do not overlap.\n",
        "- Married and unmarried customers spend nearly the same; CIs fully overlap.\n",
        "- 51–55 age group has the highest spend, 0–17 the lowest.\n",
        "- Increasing sample size narrows confidence intervals, making group comparisons more reliable.\n",
        "- Age and gender are better predictors of spending than marital status.\n"
      ],
      "metadata": {
        "id": "d9gPLzOj8zaf"
      }
    },
    {
      "cell_type": "markdown",
      "source": [
        "\n",
        " Business Recommendations\n",
        "\n",
        "-  **Offer budget deals or parental discounts** for the 0–17 group, who spend the least.\n",
        "-  **Avoid segmenting by marital status** — spending behavior is statistically similar for both groups.\n",
        "-  **Use age and gender for personalization**, not just demographics like marital status or city.\n",
        "-  **Target male customers** with personalized offers during Black Friday — they consistently spend more than women.\n",
        "-  **Promote premium product bundles** to the 51–55 age group, who have the highest average spending.\n",
        "**Target male customers** with premium product offers — they consistently spend more than female customers.\n",
        "-  **Prioritize age group 51–55** for high-value products or loyalty programs, as they have the highest spending.\n",
        "- *Offer youth discounts or bundles** for the 0–17 segment to boost lower spend rates.\n",
        "- **Avoid segmenting by marital status** — there’s no statistically significant difference in spend.\n",
        "- **Use age + gender for personalization**, and tailor Black Friday campaigns accordingly."
      ],
      "metadata": {
        "id": "-7VzEbV485fs"
      }
    },
    {
      "cell_type": "markdown",
      "source": [
        "CLT Interpretation – Gender\n",
        "As sample size increases, confidence intervals (CIs) narrow, improving precision.\n",
        "\n",
        "Males consistently show higher average purchase values than females.\n",
        "\n",
        "CIs for males and females do not overlap in large samples.\n",
        "\n",
        "This means the difference in spending is statistically significant.\n",
        "\n",
        "Gender has a clear impact on customer purchase behavior.\n",
        "\n",
        "\n",
        "\n",
        "CLT Interpretation – Marital Status\n",
        "\n",
        "CIs for married and unmarried customers shrink with larger samples.\n",
        "\n",
        "Average purchase amounts are nearly identical across all sample sizes.\n",
        "\n",
        "CIs for both groups fully overlap, even in large samples.\n",
        "\n",
        "This indicates no meaningful difference in spending.\n",
        "\n",
        "Marital status does not influence customer purchasing significantly.\n",
        "\n",
        "\n",
        "\n",
        "CLT Interpretation – Age\n",
        "\n",
        "Larger samples result in narrower and clearer confidence intervals.\n",
        "\n",
        "51–55 age group spends the most; 0–17 spends the least.\n",
        "\n",
        "In large samples, the 51–55 group’s CI does not overlap with younger groups.\n",
        "\n",
        "Some mid-age group overlaps still exist.\n",
        "\n",
        "Age shows a strong relationship with spending behavior.\n",
        "\n"
      ],
      "metadata": {
        "id": "8gJ4Z1mQ9jLf"
      }
    }
  ],
  "metadata": {
    "colab": {
      "provenance": [],
      "authorship_tag": "ABX9TyNwf3xLI1LRUzzKv7rqk7s9",
      "include_colab_link": true
    },
    "kernelspec": {
      "display_name": "Python 3",
      "name": "python3"
    },
    "language_info": {
      "name": "python"
    }
  },
  "nbformat": 4,
  "nbformat_minor": 0
}